{
 "cells": [
  {
   "cell_type": "markdown",
   "metadata": {},
   "source": [
    "# Flow through photometer data"
   ]
  },
  {
   "cell_type": "code",
   "execution_count": 35,
   "metadata": {},
   "outputs": [
    {
     "data": {
      "text/html": [
       "<div>\n",
       "<style scoped>\n",
       "    .dataframe tbody tr th:only-of-type {\n",
       "        vertical-align: middle;\n",
       "    }\n",
       "\n",
       "    .dataframe tbody tr th {\n",
       "        vertical-align: top;\n",
       "    }\n",
       "\n",
       "    .dataframe thead th {\n",
       "        text-align: right;\n",
       "    }\n",
       "</style>\n",
       "<table border=\"1\" class=\"dataframe\">\n",
       "  <thead>\n",
       "    <tr style=\"text-align: right;\">\n",
       "      <th></th>\n",
       "      <th>time</th>\n",
       "      <th>cell</th>\n",
       "      <th>dark</th>\n",
       "      <th>light</th>\n",
       "      <th>diff</th>\n",
       "    </tr>\n",
       "  </thead>\n",
       "  <tbody>\n",
       "    <tr>\n",
       "      <th>0</th>\n",
       "      <td>2018-09-20_09:54:34</td>\n",
       "      <td>cell_1</td>\n",
       "      <td>817.0</td>\n",
       "      <td>85135.0</td>\n",
       "      <td>84318.0</td>\n",
       "    </tr>\n",
       "    <tr>\n",
       "      <th>1</th>\n",
       "      <td>2018-09-20_09:58:20</td>\n",
       "      <td>cell_1</td>\n",
       "      <td>900.0</td>\n",
       "      <td>85135.0</td>\n",
       "      <td>84235.0</td>\n",
       "    </tr>\n",
       "    <tr>\n",
       "      <th>2</th>\n",
       "      <td>2018-09-20_10:02:06</td>\n",
       "      <td>cell_1</td>\n",
       "      <td>1049.0</td>\n",
       "      <td>85135.0</td>\n",
       "      <td>84086.0</td>\n",
       "    </tr>\n",
       "    <tr>\n",
       "      <th>3</th>\n",
       "      <td>2018-09-20_10:05:52</td>\n",
       "      <td>cell_1</td>\n",
       "      <td>1019.0</td>\n",
       "      <td>85136.0</td>\n",
       "      <td>84117.0</td>\n",
       "    </tr>\n",
       "    <tr>\n",
       "      <th>4</th>\n",
       "      <td>2018-09-20_10:09:38</td>\n",
       "      <td>cell_1</td>\n",
       "      <td>1018.0</td>\n",
       "      <td>85139.0</td>\n",
       "      <td>84121.0</td>\n",
       "    </tr>\n",
       "  </tbody>\n",
       "</table>\n",
       "</div>"
      ],
      "text/plain": [
       "                  time    cell    dark    light     diff\n",
       "0  2018-09-20_09:54:34  cell_1   817.0  85135.0  84318.0\n",
       "1  2018-09-20_09:58:20  cell_1   900.0  85135.0  84235.0\n",
       "2  2018-09-20_10:02:06  cell_1  1049.0  85135.0  84086.0\n",
       "3  2018-09-20_10:05:52  cell_1  1019.0  85136.0  84117.0\n",
       "4  2018-09-20_10:09:38  cell_1  1018.0  85139.0  84121.0"
      ]
     },
     "execution_count": 35,
     "metadata": {},
     "output_type": "execute_result"
    }
   ],
   "source": [
    "import matplotlib.pyplot as plt\n",
    "import os\n",
    "import pandas as pd\n",
    "import numpy as np\n",
    "\n",
    "data=pd.read_csv(\"ecoli_180920.csv\", header=None, names = [\"time\", \"cell\", \"dark\", \"light\", \"diff\"], index_col=False)\n",
    "\n",
    "data[0:5]"
   ]
  },
  {
   "cell_type": "code",
   "execution_count": 36,
   "metadata": {},
   "outputs": [
    {
     "data": {
      "text/plain": [
       "84175.4"
      ]
     },
     "execution_count": 36,
     "metadata": {},
     "output_type": "execute_result"
    }
   ],
   "source": [
    "ref=np.mean(data[\"diff\"][0:5])\n",
    "\n",
    "ref"
   ]
  },
  {
   "cell_type": "code",
   "execution_count": 37,
   "metadata": {},
   "outputs": [
    {
     "data": {
      "text/html": [
       "<div>\n",
       "<style scoped>\n",
       "    .dataframe tbody tr th:only-of-type {\n",
       "        vertical-align: middle;\n",
       "    }\n",
       "\n",
       "    .dataframe tbody tr th {\n",
       "        vertical-align: top;\n",
       "    }\n",
       "\n",
       "    .dataframe thead th {\n",
       "        text-align: right;\n",
       "    }\n",
       "</style>\n",
       "<table border=\"1\" class=\"dataframe\">\n",
       "  <thead>\n",
       "    <tr style=\"text-align: right;\">\n",
       "      <th></th>\n",
       "      <th>time</th>\n",
       "      <th>cell</th>\n",
       "      <th>dark</th>\n",
       "      <th>light</th>\n",
       "      <th>diff</th>\n",
       "      <th>OD</th>\n",
       "    </tr>\n",
       "  </thead>\n",
       "  <tbody>\n",
       "    <tr>\n",
       "      <th>0</th>\n",
       "      <td>2018-09-20_09:54:34</td>\n",
       "      <td>cell_1</td>\n",
       "      <td>817.0</td>\n",
       "      <td>85135.0</td>\n",
       "      <td>84318.0</td>\n",
       "      <td>-0.000735</td>\n",
       "    </tr>\n",
       "    <tr>\n",
       "      <th>1</th>\n",
       "      <td>2018-09-20_09:58:20</td>\n",
       "      <td>cell_1</td>\n",
       "      <td>900.0</td>\n",
       "      <td>85135.0</td>\n",
       "      <td>84235.0</td>\n",
       "      <td>-0.000307</td>\n",
       "    </tr>\n",
       "    <tr>\n",
       "      <th>2</th>\n",
       "      <td>2018-09-20_10:02:06</td>\n",
       "      <td>cell_1</td>\n",
       "      <td>1049.0</td>\n",
       "      <td>85135.0</td>\n",
       "      <td>84086.0</td>\n",
       "      <td>0.000461</td>\n",
       "    </tr>\n",
       "    <tr>\n",
       "      <th>3</th>\n",
       "      <td>2018-09-20_10:05:52</td>\n",
       "      <td>cell_1</td>\n",
       "      <td>1019.0</td>\n",
       "      <td>85136.0</td>\n",
       "      <td>84117.0</td>\n",
       "      <td>0.000301</td>\n",
       "    </tr>\n",
       "    <tr>\n",
       "      <th>4</th>\n",
       "      <td>2018-09-20_10:09:38</td>\n",
       "      <td>cell_1</td>\n",
       "      <td>1018.0</td>\n",
       "      <td>85139.0</td>\n",
       "      <td>84121.0</td>\n",
       "      <td>0.000281</td>\n",
       "    </tr>\n",
       "  </tbody>\n",
       "</table>\n",
       "</div>"
      ],
      "text/plain": [
       "                  time    cell    dark    light     diff        OD\n",
       "0  2018-09-20_09:54:34  cell_1   817.0  85135.0  84318.0 -0.000735\n",
       "1  2018-09-20_09:58:20  cell_1   900.0  85135.0  84235.0 -0.000307\n",
       "2  2018-09-20_10:02:06  cell_1  1049.0  85135.0  84086.0  0.000461\n",
       "3  2018-09-20_10:05:52  cell_1  1019.0  85136.0  84117.0  0.000301\n",
       "4  2018-09-20_10:09:38  cell_1  1018.0  85139.0  84121.0  0.000281"
      ]
     },
     "execution_count": 37,
     "metadata": {},
     "output_type": "execute_result"
    }
   ],
   "source": [
    "data[\"OD\"]=-np.log10(data[\"diff\"]/ref)\n",
    "\n",
    "data[0:5]"
   ]
  },
  {
   "cell_type": "code",
   "execution_count": 38,
   "metadata": {},
   "outputs": [
    {
     "data": {
      "image/png": "[encoded data removed]",
      "text/plain": [
       "<Figure size 432x288 with 1 Axes>"
      ]
     },
     "metadata": {},
     "output_type": "display_data"
    }
   ],
   "source": [
    "data[\"time\"] = pd.to_datetime(data[\"time\"], format=\"%Y-%m-%d_%H:%M:%S\")\n",
    "x=data[\"time\"]\n",
    "y=data[\"OD\"]\n",
    "\n",
    "plt.plot(x, y)\n",
    "plt.gcf().autofmt_xdate()\n",
    "plt.show()"
   ]
  }
 ],
 "metadata": {
  "kernelspec": {
   "display_name": "Python 3",
   "language": "python",
   "name": "python3"
  },
  "language_info": {
   "codemirror_mode": {
    "name": "ipython",
    "version": 3
   },
   "file_extension": ".py",
   "mimetype": "text/x-python",
   "name": "python",
   "nbconvert_exporter": "python",
   "pygments_lexer": "ipython3",
   "version": "3.6.5"
  }
 },
 "nbformat": 4,
 "nbformat_minor": 2
}
